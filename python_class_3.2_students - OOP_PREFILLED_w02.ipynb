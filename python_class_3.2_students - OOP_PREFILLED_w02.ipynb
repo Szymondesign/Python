{
 "cells": [
  {
   "cell_type": "markdown",
   "metadata": {},
   "source": [
    "# <div style=\"text-align: center\"> Advanced Machine Learning\n",
    "\n",
    "## <div style=\"text-align: center\">Object-Oriented Programming (I)\n",
    "    \n",
    "### <div style=\"text-align: center\">OOP basic concepts\n"
   ]
  },
  {
   "cell_type": "markdown",
   "metadata": {},
   "source": [
    "---"
   ]
  },
  {
   "cell_type": "markdown",
   "metadata": {},
   "source": [
    "---"
   ]
  },
  {
   "cell_type": "markdown",
   "metadata": {},
   "source": [
    "### References:\n",
    "- Python Programming: https://www.programiz.com/python-programming\n",
    "- Python OOP Tutorial: https://www.youtube.com/watch?v=ZDa-Z5JzLYM&list=PL-osiE80TeTsqhIuOqKhwlXsIBIdSeYtc\n",
    "\n",
    "\n",
    "- Setting up a Python Development Environment in Atom: https://www.youtube.com/watch?v=DjEuROpsvp4&list=PL-osiE80TeTt66h8cVpmbayBKlMTuS55y&index=3\n",
    "\n",
    "- OR install Visual Studio Code: https://code.visualstudio.com/"
   ]
  },
  {
   "cell_type": "markdown",
   "metadata": {},
   "source": [
    "# Atom packages that I use\n",
    "\n",
    "Install packages:\n",
    "\n",
    "- autocomplete\n",
    "\n",
    "- highlight-line\n",
    "\n",
    "- highlight-selected\n",
    "\n",
    "- minimap\n",
    "\n",
    "- minimap-highlight-selected\n",
    "\n",
    "- script"
   ]
  },
  {
   "cell_type": "markdown",
   "metadata": {},
   "source": [
    "# Object Oriented Programming"
   ]
  },
  {
   "cell_type": "markdown",
   "metadata": {},
   "source": [
    "Python is a multi-paradigm programming language. It supports different programming approaches.\n",
    "\n",
    "One of the popular approaches to solve a programming problem is by creating objects. This is known as Object-Oriented Programming (OOP).\n",
    "\n",
    "An object has two characteristics:\n",
    "\n",
    "- attributes\n",
    "- behavior\n",
    "\n",
    "---\n",
    "\n",
    "Let's take an example:\n",
    "\n",
    "A parrot is can be an object,as it has the following properties:\n",
    "\n",
    "- name, age, color as attributes\n",
    "- singing, dancing as behavior\n",
    "\n",
    "The concept of OOP in Python focuses on creating reusable code. This concept is also known as DRY (Don't Repeat Yourself).\n",
    "\n",
    "---\n",
    "\n",
    "In Python, the concept of OOP follows some basic principles:\n",
    "\n",
    "## Class\n",
    "\n",
    "A **class is a blueprint for the object**.\n",
    "\n",
    "We can think of class as a sketch of a parrot with labels. It contains all the details about the name, colors, size etc. Based on these descriptions, we can study about the parrot. Here, a parrot is an object.\n",
    "\n",
    "The example for class of parrot can be:\n",
    "\n",
    "```python\n",
    "class Parrot:\n",
    "    pass\n",
    "```\n",
    "    \n",
    "Here, we use the `class` keyword to define an empty class `Parrot`. From class, we construct instances. An instance is a specific object created from a particular class.\n",
    "\n",
    "---\n",
    "\n",
    "## Object\n",
    "\n",
    "An object (**instance**) is an instantiation of a class. When class is defined, only the description for the object is defined. Therefore, **no memory or storage is allocated**.\n",
    "\n",
    "The example for object of parrot class can be:\n",
    "\n",
    "```python\n",
    "obj = Parrot()\n",
    "```\n",
    "\n",
    "Here, `obj` is an object of class `Parrot`.\n",
    "\n",
    "Suppose we have details of parrots. Now, we are going to show how to build the class and objects of parrots."
   ]
  },
  {
   "cell_type": "code",
   "execution_count": 1,
   "metadata": {},
   "outputs": [],
   "source": [
    "class Parrot:\n",
    "    pass"
   ]
  },
  {
   "cell_type": "code",
   "execution_count": 2,
   "metadata": {},
   "outputs": [
    {
     "data": {
      "text/plain": [
       "type"
      ]
     },
     "execution_count": 2,
     "metadata": {},
     "output_type": "execute_result"
    }
   ],
   "source": [
    "type(Parrot)"
   ]
  },
  {
   "cell_type": "code",
   "execution_count": 3,
   "metadata": {},
   "outputs": [
    {
     "data": {
      "text/plain": [
       "__main__.Parrot"
      ]
     },
     "execution_count": 3,
     "metadata": {},
     "output_type": "execute_result"
    }
   ],
   "source": [
    "Parrot"
   ]
  },
  {
   "cell_type": "code",
   "execution_count": 4,
   "metadata": {},
   "outputs": [],
   "source": [
    "obj = Parrot()"
   ]
  },
  {
   "cell_type": "code",
   "execution_count": 5,
   "metadata": {},
   "outputs": [
    {
     "data": {
      "text/plain": [
       "<__main__.Parrot at 0x1c4d59e8d00>"
      ]
     },
     "execution_count": 5,
     "metadata": {},
     "output_type": "execute_result"
    }
   ],
   "source": [
    "obj"
   ]
  },
  {
   "cell_type": "code",
   "execution_count": 6,
   "metadata": {},
   "outputs": [
    {
     "data": {
      "text/plain": [
       "__main__.Parrot"
      ]
     },
     "execution_count": 6,
     "metadata": {},
     "output_type": "execute_result"
    }
   ],
   "source": [
    "type(obj)"
   ]
  },
  {
   "cell_type": "code",
   "execution_count": 7,
   "metadata": {},
   "outputs": [],
   "source": [
    "class Parrot:\n",
    "\n",
    "    # class attribute\n",
    "    species = \"bird\"\n",
    "\n",
    "    # instance attribute\n",
    "    def __init__(self, name, age):\n",
    "        self.name = name\n",
    "        self.age = age"
   ]
  },
  {
   "cell_type": "code",
   "execution_count": 8,
   "metadata": {},
   "outputs": [
    {
     "data": {
      "text/plain": [
       "'bird'"
      ]
     },
     "execution_count": 8,
     "metadata": {},
     "output_type": "execute_result"
    }
   ],
   "source": [
    "Parrot.species"
   ]
  },
  {
   "cell_type": "code",
   "execution_count": 9,
   "metadata": {},
   "outputs": [],
   "source": [
    "import pandas"
   ]
  },
  {
   "cell_type": "code",
   "execution_count": 10,
   "metadata": {},
   "outputs": [
    {
     "data": {
      "text/plain": [
       "(0, 0)"
      ]
     },
     "execution_count": 10,
     "metadata": {},
     "output_type": "execute_result"
    }
   ],
   "source": [
    "pandas.DataFrame().shape"
   ]
  },
  {
   "cell_type": "code",
   "execution_count": 11,
   "metadata": {},
   "outputs": [
    {
     "ename": "AttributeError",
     "evalue": "type object 'Parrot' has no attribute 'age'",
     "output_type": "error",
     "traceback": [
      "\u001b[1;31m---------------------------------------------------------------------------\u001b[0m",
      "\u001b[1;31mAttributeError\u001b[0m                            Traceback (most recent call last)",
      "\u001b[1;32m~\\AppData\\Local\\Temp\\ipykernel_13540\\3441505410.py\u001b[0m in \u001b[0;36m<module>\u001b[1;34m\u001b[0m\n\u001b[1;32m----> 1\u001b[1;33m \u001b[0mParrot\u001b[0m\u001b[1;33m.\u001b[0m\u001b[0mage\u001b[0m\u001b[1;33m\u001b[0m\u001b[1;33m\u001b[0m\u001b[0m\n\u001b[0m",
      "\u001b[1;31mAttributeError\u001b[0m: type object 'Parrot' has no attribute 'age'"
     ]
    }
   ],
   "source": [
    "Parrot.age"
   ]
  },
  {
   "cell_type": "code",
   "execution_count": 12,
   "metadata": {},
   "outputs": [
    {
     "name": "stdout",
     "output_type": "stream",
     "text": [
      "Blu is a bird\n",
      "Woo is also a bird\n",
      "Blu is a bird\n",
      "Woo is also a bird\n",
      "Blu is a bird\n",
      "Woo is also a bird\n",
      "\n",
      "\n",
      "BluE is 10 years old\n",
      "WooW is 15 years old\n"
     ]
    }
   ],
   "source": [
    "# instantiate the Parrot class\n",
    "blu = Parrot(\"BluE\", 10)\n",
    "woo = Parrot(\"WooW\", 15)\n",
    "\n",
    "# access the class attributes\n",
    "print(\"Blu is a {}\".format(blu.__class__.species))\n",
    "print(\"Woo is also a {}\".format(woo.__class__.species))\n",
    "# OR\n",
    "print(\"Blu is a {}\".format(blu.species))\n",
    "print(\"Woo is also a {}\".format(woo.species))\n",
    "# OR\n",
    "print(\"Blu is a {}\".format(Parrot.species))\n",
    "print(\"Woo is also a {}\".format(Parrot.species))\n",
    "\n",
    "print('\\n')\n",
    "\n",
    "# access the instance attributes\n",
    "print(\"{} is {} years old\".format(blu.name, blu.age))\n",
    "print(\"{} is {} years old\".format(woo.name, woo.age))"
   ]
  },
  {
   "cell_type": "code",
   "execution_count": 13,
   "metadata": {
    "scrolled": true
   },
   "outputs": [
    {
     "data": {
      "text/plain": [
       "'bird'"
      ]
     },
     "execution_count": 13,
     "metadata": {},
     "output_type": "execute_result"
    }
   ],
   "source": [
    "blu.species"
   ]
  },
  {
   "cell_type": "code",
   "execution_count": 14,
   "metadata": {},
   "outputs": [
    {
     "data": {
      "text/plain": [
       "10"
      ]
     },
     "execution_count": 14,
     "metadata": {},
     "output_type": "execute_result"
    }
   ],
   "source": [
    "blu.age"
   ]
  },
  {
   "cell_type": "code",
   "execution_count": 15,
   "metadata": {},
   "outputs": [
    {
     "data": {
      "text/plain": [
       "'BluE'"
      ]
     },
     "execution_count": 15,
     "metadata": {},
     "output_type": "execute_result"
    }
   ],
   "source": [
    "blu.name"
   ]
  },
  {
   "cell_type": "markdown",
   "metadata": {},
   "source": [
    "In the above program, we created a class with the name `Parrot`. Then, we define attributes. The attributes are a characteristic of an object.\n",
    "\n",
    "These attributes are defined inside the `__init__` method of the class. It is the **initializer method that is first run as soon as the object is created**.\n",
    "\n",
    "Then, we create instances of the `Parrot` class. Here, `blu` and `woo` are references (value) to our new objects.\n",
    "\n",
    "We can access the class attribute using `__class__.species`. Class attributes are the same for all instances of a class. Similarly, we access the instance attributes using `blu.name` and `blu.age`. However, instance attributes are different for every instance of a class."
   ]
  },
  {
   "cell_type": "markdown",
   "metadata": {},
   "source": [
    "---\n",
    "\n",
    "<div class=\"alert alert-block alert-success\">\n",
    "⚠️TASK 1\n",
    "<br>\n",
    "\n",
    "In Atom (or other code processor), create a new file `python_OOP2.py`, and inside it a class `Employee` that has 4 basic attributes in the `__init__` method: `first`, `last`, `email`, and `pay`. `email` should be defined in the following way: `first + '.' + last + '@email.com'`. \n",
    "    \n",
    "In the end, create an instance of employee `emp_1` with the following parameters: `first='Kate'`, `last='Smith'`, `pay=50000`.\n",
    "Print all attributes of the employee to the screen.\n",
    "\n",
    "</div>"
   ]
  },
  {
   "cell_type": "code",
   "execution_count": 16,
   "metadata": {},
   "outputs": [],
   "source": [
    "class Employee:\n",
    "    \n",
    "    def __init__(self, first, last, pay):\n",
    "        self.first = first\n",
    "        self.last = last\n",
    "        self.email = first + '.' + last + '@email.com'\n",
    "        self.pay = pay"
   ]
  },
  {
   "cell_type": "code",
   "execution_count": 17,
   "metadata": {},
   "outputs": [],
   "source": [
    "# instantiate \n",
    "emp = Employee(first='Kate', last='Smith', pay=50000)"
   ]
  },
  {
   "cell_type": "code",
   "execution_count": 18,
   "metadata": {},
   "outputs": [
    {
     "name": "stdout",
     "output_type": "stream",
     "text": [
      "First Name: Kate\n",
      "Last Name: Smith\n",
      "Email: Kate.Smith@email.com\n",
      "Pay: 50000\n"
     ]
    }
   ],
   "source": [
    "print(\"First Name: {}\".format(emp.first))\n",
    "print(\"Last Name: {}\".format(emp.last))\n",
    "print(\"Email: {}\".format(emp.email))\n",
    "print(\"Pay: {}\".format(emp.pay))"
   ]
  },
  {
   "cell_type": "markdown",
   "metadata": {},
   "source": [
    "---\n",
    "\n",
    "## Methods\n",
    "\n",
    "Methods are functions defined inside the body of a class. They are used to define the behaviors of an object."
   ]
  },
  {
   "cell_type": "code",
   "execution_count": 19,
   "metadata": {},
   "outputs": [
    {
     "name": "stdout",
     "output_type": "stream",
     "text": [
      "Blu sings 'Happy'\n",
      "Blu is now dancing\n"
     ]
    }
   ],
   "source": [
    "class Parrot:\n",
    "    \n",
    "    # instance attributes\n",
    "    def __init__(self, name, age):\n",
    "        self.name = name\n",
    "        self.age = age\n",
    "    \n",
    "    # instance method\n",
    "    def sing(self, song):\n",
    "        return \"{} sings {}\".format(self.name, song)\n",
    "\n",
    "    def dance(self):\n",
    "        return \"{} is now dancing\".format(self.name)\n",
    "\n",
    "# instantiate the object\n",
    "blu = Parrot(\"Blu\", 10)\n",
    "\n",
    "# call our instance methods\n",
    "print(blu.sing(\"'Happy'\"))\n",
    "print(blu.dance())"
   ]
  },
  {
   "cell_type": "code",
   "execution_count": 20,
   "metadata": {},
   "outputs": [
    {
     "name": "stdout",
     "output_type": "stream",
     "text": [
      "Parrot1 sings 'Happy'\n",
      "Parrot1 is now dancing\n",
      "Parrot1\n"
     ]
    }
   ],
   "source": [
    "class Parrot:\n",
    "\n",
    "    def naming(self, name, age):\n",
    "        self.name = name\n",
    "        self.age = age\n",
    "    \n",
    "    # instance method\n",
    "    def sing(self, song):\n",
    "        return \"{} sings {}\".format(self.name, song)\n",
    "\n",
    "    def dance(self):\n",
    "        return \"{} is now dancing\".format(self.name)\n",
    "\n",
    "# instantiate the object\n",
    "blu = Parrot()\n",
    "\n",
    "# call our instance methods\n",
    "blu.naming(\"Parrot1\", 10)\n",
    "print(blu.sing(\"'Happy'\"))\n",
    "print(blu.dance())\n",
    "print(blu.name)"
   ]
  },
  {
   "cell_type": "markdown",
   "metadata": {},
   "source": [
    "---\n",
    "\n",
    "<div class=\"alert alert-block alert-success\">\n",
    "⚠️TASK 2\n",
    "<br>\n",
    "    \n",
    "Next, define inside the class a function `fullname` that would merge together the attributes `first` and `last` and returns a string `first last`.\n",
    "    \n",
    "Use the function on the instance of your employee Kate.\n",
    "\n",
    "</div>"
   ]
  },
  {
   "cell_type": "code",
   "execution_count": 21,
   "metadata": {},
   "outputs": [
    {
     "name": "stdout",
     "output_type": "stream",
     "text": [
      "Kate's full name is Kate Smith\n"
     ]
    }
   ],
   "source": [
    "#again\n",
    "class Employee:\n",
    "    def __init__(self, first, last, pay):\n",
    "        self.first = first\n",
    "        self.last = last\n",
    "        self.email = first + '.' + last + '@email.com'\n",
    "        self.pay = pay\n",
    "        \n",
    "    def fullname(self):\n",
    "        return f'{self.first} {self.last}'\n",
    "emp = Employee(first='Kate', last='Smith', pay=50000)\n",
    "\n",
    "print(\"Kate's full name is {}\".format(emp.fullname()))"
   ]
  },
  {
   "cell_type": "markdown",
   "metadata": {},
   "source": [
    "---\n",
    "\n",
    "<div class=\"alert alert-block alert-success\">\n",
    "⚠️TASK 3\n",
    "<br>\n",
    "    \n",
    "Add a class variable `raise_amt = 1.04`, which will indicate the possible salary 'raise amount' of 4%. Then, create a new method `apply_raise` that - when called - would raise the `pay` attribute.\n",
    "    \n",
    "Create a new employee instance `emp_2` Alex Jones with an initial pay of 70000. Then, raise his pay with the use of the `apply_raise` method and print his new pay.\n",
    "\n",
    "</div>"
   ]
  },
  {
   "cell_type": "code",
   "execution_count": 22,
   "metadata": {},
   "outputs": [],
   "source": [
    "class Employee:\n",
    "\n",
    "    raise_amt = 1.04\n",
    "\n",
    "    def __init__(self, first, last, pay):\n",
    "        self.first = first\n",
    "        self.last = last\n",
    "        self.email = first + '.' + last + '@email.com'\n",
    "        self.pay = pay\n",
    "\n",
    "    def fullname(self):\n",
    "        return f'{self.first} {self.last}'\n",
    "\n",
    "    def apply_raise(self):\n",
    "        self.pay = (self.pay * self.raise_amt)\n",
    "\n",
    "#instantiwnirnawifn ation\n",
    "emp = Employee(first='Kate', last='Smith', pay=50000)\n",
    "theguy = Employee(first='Alex', last='Jones', pay=70000)\n",
    "\n",
    "theguy.apply_raise()"
   ]
  },
  {
   "cell_type": "code",
   "execution_count": 23,
   "metadata": {
    "scrolled": true
   },
   "outputs": [
    {
     "name": "stdout",
     "output_type": "stream",
     "text": [
      "Pay (before raise): 70000\n",
      "Pay (after raise): 72800.0\n"
     ]
    }
   ],
   "source": [
    "print(\"Pay (before raise): 70000\")\n",
    "print(\"Pay (after raise): {}\".format(theguy.pay))"
   ]
  },
  {
   "cell_type": "code",
   "execution_count": 24,
   "metadata": {},
   "outputs": [
    {
     "name": "stdout",
     "output_type": "stream",
     "text": [
      "Let's go\n"
     ]
    }
   ],
   "source": [
    "print(\"Let's go\")"
   ]
  },
  {
   "cell_type": "markdown",
   "metadata": {},
   "source": [
    "## Inheritance\n",
    "\n",
    "Inheritance is a way of creating a new class for using details of an existing class without modifying it. The newly formed class is a derived class (or child class). Similarly, the existing class is a base class (or parent class)."
   ]
  },
  {
   "cell_type": "code",
   "execution_count": null,
   "metadata": {},
   "outputs": [],
   "source": [
    "# parent class\n",
    "class Bird:\n",
    "    \n",
    "    def __init__(self):\n",
    "        print(\"Bird is ready\")\n",
    "\n",
    "    def whoisThis(self):\n",
    "        print(\"Bird\")\n",
    "\n",
    "    def swim(self):\n",
    "        print(\"Swim faster\")\n",
    "\n",
    "# child class\n",
    "class Penguin(Bird):\n",
    "\n",
    "    def __init__(self):\n",
    "        # call super() function\n",
    "        super().__init__()\n",
    "        print(\"Penguin is ready\")\n",
    "\n",
    "    def whoisThis(self):\n",
    "        print(\"Penguin\")\n",
    "\n",
    "    def run(self):\n",
    "        print(\"Run faster\")\n",
    "\n",
    "peggy = Penguin()\n",
    "peggy.whoisThis()\n",
    "peggy.swim()\n",
    "peggy.run()"
   ]
  },
  {
   "cell_type": "markdown",
   "metadata": {},
   "source": [
    "In the above program, we created two classes i.e. `Bird` (parent class) and `Penguin` (child class). The child class inherits the functions of parent class. We can see this from the swim() method.\n",
    "\n",
    "Again, the child class modified the behavior of the parent class. We can see this from the `whoisThis()` method. Furthermore, we extend the functions of the parent class, by creating a new `run()` method.\n",
    "\n",
    "Additionally, we use the `super()` function inside the `__init__()` method. This allows us to run the `__init__()` method of the parent class inside the child class."
   ]
  },
  {
   "cell_type": "markdown",
   "metadata": {},
   "source": [
    "---\n",
    "\n",
    "<div class=\"alert alert-block alert-success\">\n",
    "⚠️TASK 4\n",
    "<br>\n",
    "    \n",
    "Create a new class `Developer` that would be a child class of the parent class `Employee`.\n",
    "    \n",
    "Add a class variable `raise_amt` for the `Developer` to be 10% instead of 4% before (but 10% ONLY for developers).\n",
    "    \n",
    "Developers should have all the basic `__init__` attributes as employees, but they should also have an additional one: `prog_lang` (programming language).\n",
    "    \n",
    "Create a new employee `dev_1`: Ola Imp, who will be earning 80000, and her language of use would be Python/Java/C++ (your choice :) ).\n",
    "Print the attributes of Ola and give her a raise!\n",
    "\n",
    "</div>"
   ]
  },
  {
   "cell_type": "code",
   "execution_count": 28,
   "metadata": {},
   "outputs": [
    {
     "name": "stdout",
     "output_type": "stream",
     "text": [
      "First Name: Ola\n",
      "Last Name: Imp\n",
      "Email: Ola.Imp@email.com\n",
      "Pay (before raise): 80000\n",
      "Pay (after raise): 88000.0\n",
      "Programming Language: GO\n"
     ]
    }
   ],
   "source": [
    "class Employee:\n",
    "\n",
    "    raise_amt = 1.1\n",
    "\n",
    "    def __init__(self, first, last, pay):\n",
    "        self.first = first\n",
    "        self.last = last\n",
    "        self.email = first + '.' + last + '@email.com'\n",
    "        self.pay = pay\n",
    "\n",
    "    def fullname(self):\n",
    "        return f'{self.first} {self.last}'\n",
    "    \n",
    "    def apply_raise(self):\n",
    "        self.pay = (self.pay * self.raise_amt)\n",
    "\n",
    "class Developer(Employee):\n",
    "    def __init__(self, first, last, pay, prog_lang):\n",
    "        super().__init__(first, last, pay)\n",
    "        self.prog_lang = prog_lang\n",
    "\n",
    "# instantation\n",
    "dev_1 = Developer(first='Ola', last='Imp', pay=80000, prog_lang=\"GO\")\n",
    "\n",
    "dev_1.apply_raise()\n",
    "\n",
    "#attrivutes\n",
    "print(\"First Name: {}\".format(dev_1.first))\n",
    "print(\"Last Name: {}\".format(dev_1.last))\n",
    "print(\"Email: {}\".format(dev_1.email))\n",
    "print(\"Pay (before raise): 80000\")\n",
    "print(\"Pay (after raise): {}\".format(dev_1.pay))\n",
    "print(\"Programming Language: {}\".format(dev_1.prog_lang))"
   ]
  }
 ],
 "metadata": {
  "kernelspec": {
   "display_name": "Python 3 (ipykernel)",
   "language": "python",
   "name": "python3"
  },
  "language_info": {
   "codemirror_mode": {
    "name": "ipython",
    "version": 3
   },
   "file_extension": ".py",
   "mimetype": "text/x-python",
   "name": "python",
   "nbconvert_exporter": "python",
   "pygments_lexer": "ipython3",
   "version": "3.9.13"
  }
 },
 "nbformat": 4,
 "nbformat_minor": 4
}
